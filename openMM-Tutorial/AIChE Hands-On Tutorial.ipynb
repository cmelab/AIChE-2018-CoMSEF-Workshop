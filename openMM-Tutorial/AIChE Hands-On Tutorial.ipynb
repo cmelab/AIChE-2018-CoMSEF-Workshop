{
 "cells": [
  {
   "cell_type": "markdown",
   "metadata": {},
   "source": [
    "# AIChE 2018 Hands-On Tutorial: Building Biomolecular Models\n",
    "\n",
    "**[Tucker Burgin](mailto:tburgin@umich.edu) and [Heather Mayes](mailto:hbmayes@umich.edu)**\n",
    "\n",
    "*University of Michigan, Department of Chemical Engineering*\n",
    "\n",
    "---\n",
    "\n",
    "This is a Python 3 Jupyter notebook to guide you through an introduction to biomolecular modeling with OpenMM. This tutorial will begin with installation of the necessary software (including Conda) and then proceed into an example of constructing a protein model from a crystal structure and running a simple simulation with it. It is written for an audience that is entirely new to biomolecular modeling and simulation; however, although the python programming language will be used, this is not a python tutorial. Fortunately, only very minimal programming knowledge should be required!"
   ]
  },
  {
   "cell_type": "markdown",
   "metadata": {},
   "source": [
    "## Installing Conda and creating a Python environment\n",
    "\n",
    "We will use the Conda python interpreter because of its built in package management features. Specifically, we will use miniconda, which is a light-weight version. Complete install instructions can be found on the documentation website [here](https://conda.io/docs/user-guide/install/index.html), but in general simply follow [this](https://conda.io/miniconda.html) link, download the Python 3.7 installer appropriate for your OS, and execute it.\n",
    "\n",
    "Once conda is installed, create a new Python environment using the following terminal commands (they won't execute here; copy and paste them into your own terminal):"
   ]
  },
  {
   "cell_type": "raw",
   "metadata": {},
   "source": [
    "conda create --name openmm_env python=3\n",
    "source activate openmm_env"
   ]
  },
  {
   "cell_type": "markdown",
   "metadata": {},
   "source": [
    "You may need to give permission to install dependencies while executing the first line. These commands create and activate a new environment called \"openmm_env\", which means that you can install Python packages here without needing to worry about how they might interact with any other Python packages you might have on your system. One handy feature of Conda environments is that they belong to the user account that created them, which means you can use this method to install and use Python packages on systems where you don't have root access, such as on a high-performance computing cluster."
   ]
  },
  {
   "cell_type": "markdown",
   "metadata": {},
   "source": [
    "## Installing OpenMM and dependencies\n",
    "\n",
    "Now we can install our needed software packages. Since we installed Conda, this is very straightforward:"
   ]
  },
  {
   "cell_type": "raw",
   "metadata": {
    "collapsed": true
   },
   "source": [
    "conda install -c omnia openmm"
   ]
  },
  {
   "cell_type": "markdown",
   "metadata": {},
   "source": [
    "Conda will automatically determine the necessary dependencies for the openmm package and install, update, and downgrade elements of the active environment to match. You can double-check that your installation was successful with the command:"
   ]
  },
  {
   "cell_type": "raw",
   "metadata": {},
   "source": [
    "python -m simtk.testInstallation"
   ]
  },
  {
   "cell_type": "markdown",
   "metadata": {},
   "source": [
    "This should produce output something like this:"
   ]
  },
  {
   "cell_type": "raw",
   "metadata": {},
   "source": [
    "There are 3 Platforms available:\n",
    "\n",
    "1 Reference - Successfully computed forces\n",
    "2 CPU - Successfully computed forces\n",
    "3 OpenCL - Successfully computed forces\n",
    "\n",
    "Median difference in forces between platforms:\n",
    "\n",
    "Reference vs. CPU: 1.9801e-05\n",
    "Reference vs. OpenCL: 2.15576e-05\n",
    "CPU vs. OpenCL: 1.55571e-05"
   ]
  },
  {
   "cell_type": "markdown",
   "metadata": {},
   "source": [
    "From here you are ready to work with OpenMM. However, if you want the code in this Jupyter notebook to be executable, there's one more step to take: simply close the notebook, `source activate openmm_env` in the desired terminal instance, and then reopen it with `jupyter notebook <path/to/this/notebook>` to load it with your new environment. Alternatively, you can copy-and-paste the python code segments into a file on your computer and execute the code from there using whatever interpreter you like."
   ]
  },
  {
   "cell_type": "markdown",
   "metadata": {},
   "source": [
    "## Building a simple molecular model"
   ]
  },
  {
   "cell_type": "markdown",
   "metadata": {},
   "source": [
    "Now we are ready to start working on our molecular model. First, we need to understand: what is a \"model\" in this context? That is, what information constitutes a complete molecular model, and how is that information encoded in the computer?\n",
    "\n",
    "Generally, a molecular model consists of two types of files: topology and coordinates. Let's begin with coordinates, which consist very simply of a long list of coordinates in three-space (usually X, Y, and Z) indicating the positions of every atom in the system. Generally, a coordinate file contains no information about *what* each atom is; that's the role of a topology file! Topology files (also sometimes called 'top', parameter, parameter/topology, or 'prmtop' files, among other names) are paired with coordinate files, and encode the \"special sauce\" of chemistry that translates a list of coordinates into a model system. These files contain information like atom types, bond topology, residue names, and so on. More on this a little later.\n",
    "\n",
    "For now, just remember that a complete model requires *both* of these files, as a pair, neither of which is very useful without the other. So how do we build them?"
   ]
  },
  {
   "cell_type": "markdown",
   "metadata": {},
   "source": [
    "### Importing a crystal structure"
   ]
  },
  {
   "cell_type": "markdown",
   "metadata": {},
   "source": [
    "Most molecular modeling of proteins, especially large ones, takes advantage of a crystal structure as a starting point. Crystal structures provide a very good approximation of the native folding state of a protein, without which we would need to somehow fold the protein ourselves! For this tutorial, we will use a very simple protein: the HIV gp120 C5 domain ([Guilhaudis *et al.* (2002) Euro. J. Biochem. 269(19):4860](http://doi.org/10.1046/j.1432-1033.2002.03187.x)). This is actually a small part of a larger protein, but this domain has been implicated in the process by which HIV infects host cells, and is therefore of interest as a drug target."
   ]
  },
  {
   "cell_type": "markdown",
   "metadata": {},
   "source": [
    "<img src=\"https://cdn.rcsb.org/images/rutgers/me/1meq/1meq.pdb-500.jpg\" alt=\"PDB ID: 1MEQ\" width=\"300\"/>"
   ]
  },
  {
   "cell_type": "markdown",
   "metadata": {},
   "source": [
    "So let's write some code to import this structure! First, we need to import some dependencies. These statements will appear as the first thing in any OpenMM script:"
   ]
  },
  {
   "cell_type": "code",
   "execution_count": null,
   "metadata": {},
   "outputs": [],
   "source": [
    "from simtk.openmm.app import *\n",
    "from simtk.openmm import *\n",
    "from simtk.unit import *\n",
    "from sys import stdout"
   ]
  },
  {
   "cell_type": "markdown",
   "metadata": {
    "collapsed": true
   },
   "source": [
    "Then, we need to download the crystal structure. This particular structure is available on the Protein Data Bank (PDB) with the code: 1MEQ. Go to [this](http://www.rcsb.org/structure/1MEQ) page, click the blue \"download files\" link on the top-right, and then click \"PDB Format\" from the drop-down menu. After your browser finishes downloading the file, move it to the same directory that this IPython notebook is located in. If you're not sure where that is, run this code:"
   ]
  },
  {
   "cell_type": "code",
   "execution_count": null,
   "metadata": {},
   "outputs": [],
   "source": [
    "import os\n",
    "os.path.realpath('./')"
   ]
  },
  {
   "cell_type": "markdown",
   "metadata": {},
   "source": [
    "Alternatively, if you're using a separate interpreter, put it in the same directory as your .py file. Once the .pdb file is in the right place, we can read it into OpenMM like this:"
   ]
  },
  {
   "cell_type": "code",
   "execution_count": null,
   "metadata": {},
   "outputs": [],
   "source": [
    "pdb = PDBFile('1meq.pdb')"
   ]
  },
  {
   "cell_type": "markdown",
   "metadata": {},
   "source": [
    "If you get an error here, make sure that the file is in the right directory, that OpenMM is installed correctly, and that you ran the import statements above.\n",
    "\n",
    "Now we are ready to work with our .pdb file! The .pdb format is a little bit special: it contains a mix of coordinate and topology information, which is possible because of the limited number of residue topologies that are found in proteins. The interested reader is encouraged to open up a .pdb file with a text editor in order to get a feel for the encoded information! This information will be useful in the next step..."
   ]
  },
  {
   "cell_type": "markdown",
   "metadata": {},
   "source": [
    "### Building the model and the topology and coordinate files"
   ]
  },
  {
   "cell_type": "markdown",
   "metadata": {},
   "source": [
    "Molecular models are really just that: models. They do not encode the entirety of physics from subatomic particles up (although some methods, called *ab initio*, do make an attempt). Instead, they apply approximations of the interactions between atoms in the form of what's called a \"force field\". There are lots of force fields, all with their own strengths and weaknesses, but in modeling proteins the two most popular are called Amber and CHARMM, respectively. Incidentally, these are also the names of molecular modeling programs (just like OpenMM), but more on that later. These force fields are popular because they have been exhaustively developed and tested specifically with biomolecules in mind. OpenMM comes with both readily available, so let's apply the Amber force field as such:"
   ]
  },
  {
   "cell_type": "code",
   "execution_count": null,
   "metadata": {},
   "outputs": [],
   "source": [
    "forcefield = ForceField('amber14-all.xml', 'amber14/tip3p.xml')"
   ]
  },
  {
   "cell_type": "markdown",
   "metadata": {},
   "source": [
    "This loads the 2014 release of the Amber forcefield, which contains parameterizations of protein residues (as well as nucleotides and many lipids and sugars, incidentally) as well as a the TIP3P water model. With a force field in hand, we can start building the completed model starting from the .pdb file."
   ]
  },
  {
   "cell_type": "markdown",
   "metadata": {},
   "source": [
    "When we downloaded the crystal structure from the PDB, we got the positions of all the atoms in the protein. But real proteins don't exist in a vacuum; they are solvated in water. In order to recreate this in our model, we need to create an OpenMM \"Modeller\" object:"
   ]
  },
  {
   "cell_type": "code",
   "execution_count": null,
   "metadata": {},
   "outputs": [],
   "source": [
    "modeller = Modeller(pdb.topology, pdb.positions)"
   ]
  },
  {
   "cell_type": "markdown",
   "metadata": {},
   "source": [
    "This is a tool that lets us modify the structure we imported from the .pdb file. Let's add a 5x5x5 nm cube of water around the crystal structure to represent the bulk solvent:"
   ]
  },
  {
   "cell_type": "code",
   "execution_count": null,
   "metadata": {},
   "outputs": [],
   "source": [
    "modeller.addSolvent(forcefield, boxSize=Vec3(5.0, 5.0, 5.0)*nanometers, model='tip3p')"
   ]
  },
  {
   "cell_type": "markdown",
   "metadata": {},
   "source": [
    "Of course, that 5 nm cube of water shouldn't be in a vacuum, either! To solve this issue, molecular models will often apply what's called a \"box\" (see the \"boxSize\" keyword argument above?) to the model. The box tells the model to substitute an \"image\" of itself at the boundary whenever a calculation crosses outside the box. If you've ever played the arcade game Pac-Man, this concept should feel familiar!"
   ]
  },
  {
   "cell_type": "markdown",
   "metadata": {},
   "source": [
    "![Pac-Man](pacman.gif)"
   ]
  },
  {
   "cell_type": "markdown",
   "metadata": {},
   "source": [
    "---\n",
    "\n",
    "**A brief aside: adding hydrogens**\n",
    "\n",
    "When you download a .pdb file representing a crystal structure, typically you will find that it is missing hydrogen atoms. This is because hydrogen is too small to show up reliably in X-ray crystallography. Generally this is no problem, as we can use basic chemical knowledge to add hydrogens wherever they're missing. However, in proteins there are some cases where it is not obvious whether or not a hydrogen is missing: titratible residues. These are amino acids whose side chains' protonation states depend on the pH. In OpenMM, we can add these hydrogens (and all missing hydrogens, in fact) at a given pH:"
   ]
  },
  {
   "cell_type": "raw",
   "metadata": {},
   "source": [
    "modeller.addHydrogens(forcefield, pH=7.0)"
   ]
  },
  {
   "cell_type": "markdown",
   "metadata": {},
   "source": [
    "(Note that this code is not executable because we don't actually want to run it here. Unlike most .pdb files, PDB ID: 1MEQ actually *does* have hydrogens, so we skip this step). Unfortunately, there is another subtlety here in that the pKa of a residue actually depends on the local environment (*e.g.*, other nearby residues), so to handle this issue properly we need more advanced tools, such as [H++](http://biophysics.cs.vt.edu/). Again, though, this is not necessary in this case!\n",
    "\n",
    "---"
   ]
  },
  {
   "cell_type": "markdown",
   "metadata": {},
   "source": [
    "Once the waters and hydrogens have been added, the last step before we can perform a simulation is to collapse all this information into a single \"system\" object:"
   ]
  },
  {
   "cell_type": "code",
   "execution_count": null,
   "metadata": {},
   "outputs": [],
   "source": [
    "# Make a System object\n",
    "system = forcefield.createSystem(modeller.topology, nonbondedMethod=PME, nonbondedCutoff=8*angstrom, constraints=HBonds)\n",
    "# Save the Modeller object to a file so that we can run future simulations with it without rebuilding it\n",
    "PDBFile.writeFile(modeller.topology, modeller.positions, open('output.pdb', 'w'))"
   ]
  },
  {
   "cell_type": "markdown",
   "metadata": {},
   "source": [
    "There are a few keyword arguments to point out here. `nonbondedMethod` refers to the method used to calculate interaction potentials between atoms that are not covalently bonded. The method we chose here, `PME`, stands for Particle Mesh Ewald, and is considered quite standard. A related concept, the `nonbondedCutoff` indicates the distance beyond which the system will ignore (not bother to calculate) interaction potentials. This is fundamentally a time-saving approximation, but it is generally agreed-upon that interactions beyond about 8 Å do not meaningfully influence simulations. Finally, for the `constraints` keyword, we set `HBonds`. This setting tells the software to fix the bondlengths of all covalent hydrogen bonds. Without this setting, covalent hydrogen bonds vibrate rapidly and make calculations slower, but fixing them is unlikely to significantly change the energetics of the system, so this is a good opportunity for time-saving!"
   ]
  },
  {
   "cell_type": "markdown",
   "metadata": {},
   "source": [
    "At this point, we can load the .pdb file we just wrote in any molecular visualization software to take a look at it. Here's a peek at what that might look like in the visualization program VMD:"
   ]
  },
  {
   "cell_type": "markdown",
   "metadata": {},
   "source": [
    "![Rot](rot.gif)"
   ]
  },
  {
   "cell_type": "markdown",
   "metadata": {},
   "source": [
    "A keen eye will notice some green dots floating around in the solvent. These are chlorine ions that OpenMM automatically added for us when solvating in order to equalize the overall charge of the system. Very helpful!"
   ]
  },
  {
   "cell_type": "markdown",
   "metadata": {},
   "source": [
    "The System object formalism is unique to OpenMM; many other modeling programs (such as Amber or CHARMM, for instance) operate on topology and coordinate files directly, but when we use OpenMM to build the model in the first place it already has that information in-memory, so there's no reason to write out new files. However, if at this stage we want to try using a different modeling software, OpenMM can plug into some other software to produce these files (which we can then use as inputs for other programs). For example, the following code block produces Amber-format topology and coordinate files by plugging into the Amber program ParmEd **(skip to the next section if you're not interested in migrating to Amber just now)**:"
   ]
  },
  {
   "cell_type": "code",
   "execution_count": null,
   "metadata": {},
   "outputs": [],
   "source": [
    "import parmed\n",
    "structure = parmed.openmm.topsystem.load_topology(modeller.topology, system, modeller.positions)\n",
    "bond_type = parmed.BondType(1.0, 1.0, list=structure.bond_types) # Necessary because of a discrepancy in how OpenMM and ParmEd handle \"none\" bonds. Not a particularly satisfactory solution, work in progress.\n",
    "structure.bond_types.append(bond_type)\n",
    "for bond in structure.bonds:\n",
    "    if bond.type is None:\n",
    "        bond.type = bond_type\n",
    "structure.save('system.prmtop', overwrite=True) # Warning: will be several GB's in size.\n",
    "structure.save('system.rst7', format='rst7', overwrite=True) # Note that this tries to write velocities, but there are none; to fix this, just delete the second number in the second line of the resulting file."
   ]
  },
  {
   "cell_type": "markdown",
   "metadata": {},
   "source": [
    "Note that this code may take some time to complete, so only run it if you actually want the output files! Also, you'll notice that this code uses another module, parmed. This can be easily installed in our Conda environment just like we installed OpenMM:"
   ]
  },
  {
   "cell_type": "raw",
   "metadata": {},
   "source": [
    "conda install -c omnia parmed"
   ]
  },
  {
   "cell_type": "markdown",
   "metadata": {},
   "source": [
    "But again, don't worry about this unless you want to move over to Amber."
   ]
  },
  {
   "cell_type": "markdown",
   "metadata": {},
   "source": [
    "### Performing a simple simulation "
   ]
  },
  {
   "cell_type": "markdown",
   "metadata": {},
   "source": [
    "Once we've built a System object, we're ready to set up and run the simulations. First, we set up an Integrator object and plug in into our system:"
   ]
  },
  {
   "cell_type": "code",
   "execution_count": null,
   "metadata": {},
   "outputs": [],
   "source": [
    "integrator = LangevinIntegrator(300*kelvin, 1/picosecond, 0.002*picoseconds)\n",
    "simulation = Simulation(modeller.topology, system, integrator)\n",
    "simulation.context.setPositions(modeller.positions)"
   ]
  },
  {
   "cell_type": "markdown",
   "metadata": {},
   "source": [
    "As the name suggests, an Integrator is responsible for integrating the equations of motion (here we will use Langevin dynamics, the details of which are outside the scope of this tutorial) and obtaining the velocity vectors for every atom at every step. The step size is set to 2 fs here, and the temperature is 300 K, which are both very typical values. We also created a Simulation object as a function of our modeller topology, our System object, and the Integrator object that we just created. The last step is to set the positions of the atoms (also taken from the Modeller object) and then:"
   ]
  },
  {
   "cell_type": "code",
   "execution_count": null,
   "metadata": {},
   "outputs": [],
   "source": [
    "simulation.minimizeEnergy()\n",
    "simulation.reporters.append(PDBReporter('traj.pdb', 100))\n",
    "simulation.reporters.append(StateDataReporter(stdout, 1000, step=True,\n",
    "        potentialEnergy=True, temperature=True))\n",
    "simulation.step(10000)"
   ]
  },
  {
   "cell_type": "markdown",
   "metadata": {},
   "source": [
    "The first line tells OpenMM to optimize the structure to a local energy minimum. This removes any errors associated with the modelling process and makes simulations more convergent. The \"reporters\" steps just tell the program what to do with the results of the upcoming simulation -- the first line indicates that the coordines should be written to 'traj.pdb\" every 100 steps, while the second one outputs simulation progress data to the console as it runs. Finally, the 'step' function runs the simulation for 10,000 steps."
   ]
  },
  {
   "cell_type": "markdown",
   "metadata": {},
   "source": [
    "It's that easy! After this step completes, you will find the output trajectory \"traj.pdb\" in your working directory. This file can be loaded into a visualization program to watch the trajectory. You are encouraged to try this yourself to explore your simulation and all the different ways you might visualize and analyze it ([here](https://www.ks.uiuc.edu/Development/Download/download.cgi?PackageName=VMD) is the VMD download page!), but here's what I got:"
   ]
  },
  {
   "cell_type": "markdown",
   "metadata": {},
   "source": [
    "![Sim](sim.gif)"
   ]
  },
  {
   "cell_type": "markdown",
   "metadata": {},
   "source": [
    "Note: You may notice if you visualize your own trajectory that the protein appears to have moved to the corner of the water box. This has to do with the box images we discussed earlier and is not an error."
   ]
  },
  {
   "cell_type": "markdown",
   "metadata": {},
   "source": [
    "## Conclusion"
   ]
  },
  {
   "cell_type": "markdown",
   "metadata": {},
   "source": [
    "Molecular simulation is a rich and valuable field that benefits from the combined efforts of researchers from all over the world, all with their own particular applications and work flows. Due to time constraints, we had to leave a lot out of this tutorial, but here is a short list of topics for further reading should you be interested in builidng a larger or more sophisticated model:\n",
    "* Disulphide bonds in proteins\n",
    "* Choosing your water model (implicit or explicit) based on the needs of your simulations (*e.g.*, optimized for polarizability, self-diffusion coefficient, solvation energy, simulation speed, *etc.*)\n",
    "* Coarse-graining\n",
    "* Parameterization of non-protein ligands and substrates\n",
    "* Different simulation ensembles\n",
    "* Restraints and constraints\n",
    "\n",
    "We hope that this tutorial was illustrative of what basic biomolecular modeling looks like and that it helps you to conceptualize what molecular simulations do -- and maybe, what they can do for your work!"
   ]
  },
  {
   "cell_type": "code",
   "execution_count": null,
   "metadata": {},
   "outputs": [],
   "source": []
  }
 ],
 "metadata": {
  "kernelspec": {
   "display_name": "Python 3",
   "language": "python",
   "name": "python3"
  }
 },
 "nbformat": 4,
 "nbformat_minor": 2
}
