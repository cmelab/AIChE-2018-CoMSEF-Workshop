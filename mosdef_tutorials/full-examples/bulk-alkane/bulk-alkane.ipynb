{
 "cells": [
  {
   "cell_type": "markdown",
   "metadata": {},
   "source": [
    "# Bulk Alkanes\n",
    "\n",
    "In this example, the MoSDeF toolkit is used to create a system of bulk alkanes, atom-typed according to the OPLS all-atom force field. The output files are then used to run an NPT molecular dynamics simulation using the GROMACS simulation engine.\n",
    "\n",
    "Note: MDP files were obtained from https://github.com/mattwthompson/gromacs_signac_template/tree/master/src/util/mdp_files."
   ]
  },
  {
   "cell_type": "markdown",
   "metadata": {},
   "source": [
    "First, we import mBuild."
   ]
  },
  {
   "cell_type": "code",
   "execution_count": null,
   "metadata": {
    "collapsed": true
   },
   "outputs": [],
   "source": [
    "import mbuild as mb"
   ]
  },
  {
   "cell_type": "markdown",
   "metadata": {},
   "source": [
    "Here we define all of the necessary `Compound` classes for creating an alkane box. Our lowest level components here are a `CH2` moiety and a hydrogen atom. An `Alkane` class is defined that uses the `Polymer` recipe to stitch together a user-defined number of `CH2` moieties - which are then capped with hydrogen atoms to yield a linear alkane chain. The `AlkaneBox` class serves as a wrapper around mBuild's `fill_box` function and yields a cubic box of alkane chains."
   ]
  },
  {
   "cell_type": "code",
   "execution_count": null,
   "metadata": {
    "collapsed": true
   },
   "outputs": [],
   "source": [
    "class CH2(mb.Compound):\n",
    "    \"\"\"A methylene bridge. \"\"\"\n",
    "    def __init__(self):\n",
    "        super(CH2, self).__init__()\n",
    "        \n",
    "        mb.load('pdb-files/ch2.pdb', compound=self)\n",
    "        self.add(mb.Port(anchor=self[0], orientation=[0, 1, 0], separation=0.075), label='up')\n",
    "        self.add(mb.Port(anchor=self[0], orientation=[0, -1, 0], separation=0.075), label='down')\n",
    "        \n",
    "class H(mb.Compound):\n",
    "    \"\"\"A hydrogen atom. \"\"\"\n",
    "    def __init__(self):\n",
    "        super(H, self).__init__()\n",
    "        \n",
    "        self.add(mb.Particle(name='H'))\n",
    "        self.add(mb.Port(anchor=self[0], orientation=[0, 1, 0], separation=0.075), label='up')\n",
    "        \n",
    "class Alkane(mb.Compound):\n",
    "    \"\"\"A linear alkane chain. \"\"\"\n",
    "    def __init__(self, n):\n",
    "        \"\"\"Initialize an Alkane Compound.\n",
    "\n",
    "        Parameters\n",
    "        ----------\n",
    "        n : int\n",
    "            Number of carbon atoms in the chain\n",
    "            \n",
    "        \"\"\"\n",
    "        if n < 1:\n",
    "            raise ValueError('n must be 1 or more')\n",
    "        super(Alkane, self).__init__()\n",
    "\n",
    "        chain = mb.Polymer(CH2(), n=n, port_labels=('up', 'down'))\n",
    "        self.add(chain, 'chain')\n",
    "        \n",
    "        up_cap = H()\n",
    "        down_cap = H()\n",
    "        mb.force_overlap(up_cap, up_cap['up'], chain['up'])\n",
    "        self.add(up_cap)\n",
    "        mb.force_overlap(down_cap, down_cap['up'], chain['down'])\n",
    "        self.add(down_cap)\n",
    "        \n",
    "class AlkaneBox(mb.Compound):\n",
    "    \"\"\"A box of alkane chains. \"\"\"\n",
    "    def __init__(self, n, n_chains, box_length):\n",
    "        super(AlkaneBox, self).__init__()\n",
    "        \n",
    "        chain = Alkane(n)\n",
    "        box = mb.Box(lengths=[box_length, box_length, box_length])\n",
    "        box_of_chains = mb.fill_box(compound=chain, n_compounds=n_chains, box=box)\n",
    "        self.add(box_of_chains)"
   ]
  },
  {
   "cell_type": "markdown",
   "metadata": {},
   "source": [
    "To actually use these class definitions to run a simulation, we instantiate the `AlkaneBox` class to yield a `Compound` that contains 200 pentane chains. We then save this to `.gro` and `.top` formats to be able to run a GROMACS simulation. By passing `forcefield_name='oplsaa'` when saving the topology file, we invoke Foyer's atomtyper to apply force field parameters to our system according to the all-atom OPLS force field."
   ]
  },
  {
   "cell_type": "code",
   "execution_count": null,
   "metadata": {},
   "outputs": [],
   "source": [
    "system = AlkaneBox(n=5, n_chains=200, box_length=4.0)\n",
    "system.save('system.gro', overwrite=True)\n",
    "system.save('system.top', forcefield_name='oplsaa', overwrite=True)"
   ]
  },
  {
   "cell_type": "markdown",
   "metadata": {},
   "source": [
    "Now we have all the necessary files to run a GROMACS simulation. First we'll run a short energy minimization."
   ]
  },
  {
   "cell_type": "code",
   "execution_count": null,
   "metadata": {},
   "outputs": [],
   "source": [
    "%%bash\n",
    "gmx grompp -f em.mdp -c system.gro -p system.top -o em.tpr\n",
    "gmx mdrun -v -deffnm em"
   ]
  },
  {
   "cell_type": "markdown",
   "metadata": {},
   "source": [
    "Next, we'll perform a 1ns equilibration run."
   ]
  },
  {
   "cell_type": "code",
   "execution_count": null,
   "metadata": {},
   "outputs": [],
   "source": [
    "%%bash\n",
    "gmx grompp -f equil.mdp -c em.gro -p system.top -o equil.tpr\n",
    "gmx mdrun -v -deffnm equil"
   ]
  },
  {
   "cell_type": "markdown",
   "metadata": {},
   "source": [
    "Finally, we'll perform a sampling run for 10ns."
   ]
  },
  {
   "cell_type": "code",
   "execution_count": null,
   "metadata": {
    "collapsed": true
   },
   "outputs": [],
   "source": [
    "%%bash\n",
    "gmx grompp -f mdp_files/sample.mdp -c equil.gro -p system.top -o sample.tpr\n",
    "gmx mdrun -v -deffnm sample"
   ]
  }
 ],
 "metadata": {
  "kernelspec": {
   "display_name": "Python 3",
   "language": "python",
   "name": "python3"
  },
  "language_info": {
   "codemirror_mode": {
    "name": "ipython",
    "version": 3
   },
   "file_extension": ".py",
   "mimetype": "text/x-python",
   "name": "python",
   "nbconvert_exporter": "python",
   "pygments_lexer": "ipython3",
   "version": "3.5.2"
  }
 },
 "nbformat": 4,
 "nbformat_minor": 2
}
